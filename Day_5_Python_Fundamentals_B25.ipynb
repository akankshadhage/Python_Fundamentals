{
 "cells": [
  {
   "cell_type": "code",
   "execution_count": 1,
   "metadata": {},
   "outputs": [
    {
     "name": "stdout",
     "output_type": "stream",
     "text": [
      "['vaibhav', 'sameer', 'neha', 'sakshi', 'manali', 'suraksha', 'kiran', 'akshita']\n"
     ]
    }
   ],
   "source": [
    "students=['vaibhav','sameer','neha','sakshi','manali','suraksha','kiran','akshita']\n",
    "print(students)"
   ]
  },
  {
   "cell_type": "code",
   "execution_count": 2,
   "metadata": {},
   "outputs": [
    {
     "data": {
      "text/plain": [
       "list"
      ]
     },
     "execution_count": 2,
     "metadata": {},
     "output_type": "execute_result"
    }
   ],
   "source": [
    "type(students)"
   ]
  },
  {
   "cell_type": "code",
   "execution_count": 4,
   "metadata": {},
   "outputs": [
    {
     "name": "stdout",
     "output_type": "stream",
     "text": [
      "keep up the good work, vaibhav\n"
     ]
    }
   ],
   "source": [
    "print(f\"keep up the good work, {students[0]}\")\n",
    "      "
   ]
  },
  {
   "cell_type": "code",
   "execution_count": 5,
   "metadata": {},
   "outputs": [
    {
     "name": "stdout",
     "output_type": "stream",
     "text": [
      "keep up the good work, sakshi\n"
     ]
    }
   ],
   "source": [
    "print(f\"keep up the good work, {students[3]}\")\n"
   ]
  },
  {
   "cell_type": "code",
   "execution_count": 6,
   "metadata": {},
   "outputs": [
    {
     "name": "stdout",
     "output_type": "stream",
     "text": [
      "keep up the good work, akshita\n"
     ]
    }
   ],
   "source": [
    "print(f\"keep up the good work, {students[7]}\")\n"
   ]
  },
  {
   "cell_type": "code",
   "execution_count": null,
   "metadata": {},
   "outputs": [],
   "source": [
    "#implementation of a for loop "
   ]
  },
  {
   "cell_type": "code",
   "execution_count": 7,
   "metadata": {},
   "outputs": [
    {
     "name": "stdout",
     "output_type": "stream",
     "text": [
      "vaibhav\n",
      "sameer\n",
      "neha\n",
      "sakshi\n",
      "manali\n",
      "suraksha\n",
      "kiran\n",
      "akshita\n"
     ]
    }
   ],
   "source": [
    "for x in students:\n",
    "    print(x)"
   ]
  },
  {
   "cell_type": "code",
   "execution_count": null,
   "metadata": {},
   "outputs": [],
   "source": [
    "#enhancement of a for loop"
   ]
  },
  {
   "cell_type": "code",
   "execution_count": 8,
   "metadata": {},
   "outputs": [
    {
     "name": "stdout",
     "output_type": "stream",
     "text": [
      "keep up the good work, vaibhav\n",
      "keep up the good work, sameer\n",
      "keep up the good work, neha\n",
      "keep up the good work, sakshi\n",
      "keep up the good work, manali\n",
      "keep up the good work, suraksha\n",
      "keep up the good work, kiran\n",
      "keep up the good work, akshita\n"
     ]
    }
   ],
   "source": [
    "for x in students:\n",
    "    print(f\"keep up the good work, {x}\")"
   ]
  },
  {
   "cell_type": "code",
   "execution_count": null,
   "metadata": {},
   "outputs": [],
   "source": [
    "#further enhancement"
   ]
  },
  {
   "cell_type": "code",
   "execution_count": 9,
   "metadata": {},
   "outputs": [
    {
     "name": "stdout",
     "output_type": "stream",
     "text": [
      "keep up the good work,vaibhav\n",
      "i will be looking to receive your file of today,vaibhav\n",
      "keep up the good work,sameer\n",
      "i will be looking to receive your file of today,sameer\n",
      "keep up the good work,neha\n",
      "i will be looking to receive your file of today,neha\n",
      "keep up the good work,sakshi\n",
      "i will be looking to receive your file of today,sakshi\n",
      "keep up the good work,manali\n",
      "i will be looking to receive your file of today,manali\n",
      "keep up the good work,suraksha\n",
      "i will be looking to receive your file of today,suraksha\n",
      "keep up the good work,kiran\n",
      "i will be looking to receive your file of today,kiran\n",
      "keep up the good work,akshita\n",
      "i will be looking to receive your file of today,akshita\n"
     ]
    }
   ],
   "source": [
    "for x in students:\n",
    "    print(f\"keep up the good work,{x}\")\n",
    "    print(f\"i will be looking to receive your file of today,{x}\")"
   ]
  },
  {
   "cell_type": "code",
   "execution_count": 11,
   "metadata": {},
   "outputs": [
    {
     "name": "stdout",
     "output_type": "stream",
     "text": [
      "keep up the good work, vaibhav\n",
      "i will be looking forward to receive your file of today, vaibhav\n",
      "keep up the good work, sameer\n",
      "i will be looking forward to receive your file of today, sameer\n",
      "keep up the good work, neha\n",
      "i will be looking forward to receive your file of today, neha\n",
      "keep up the good work, sakshi\n",
      "i will be looking forward to receive your file of today, sakshi\n",
      "keep up the good work, manali\n",
      "i will be looking forward to receive your file of today, manali\n",
      "keep up the good work, suraksha\n",
      "i will be looking forward to receive your file of today, suraksha\n",
      "keep up the good work, kiran\n",
      "i will be looking forward to receive your file of today, kiran\n",
      "keep up the good work, akshita\n",
      "i will be looking forward to receive your file of today, akshita\n",
      "\n",
      "Thank you all for showing interest in learning python\n"
     ]
    }
   ],
   "source": [
    "for x in students:\n",
    "    print(f\"keep up the good work, {x}\")\n",
    "    print(f\"i will be looking forward to receive your file of today, {x}\")\n",
    "    \n",
    "print(\"\\nThank you all for showing interest in learning python\")    "
   ]
  },
  {
   "cell_type": "code",
   "execution_count": null,
   "metadata": {},
   "outputs": [],
   "source": []
  },
  {
   "cell_type": "code",
   "execution_count": null,
   "metadata": {},
   "outputs": [],
   "source": []
  }
 ],
 "metadata": {
  "kernelspec": {
   "display_name": "Python 3",
   "language": "python",
   "name": "python3"
  },
  "language_info": {
   "codemirror_mode": {
    "name": "ipython",
    "version": 3
   },
   "file_extension": ".py",
   "mimetype": "text/x-python",
   "name": "python",
   "nbconvert_exporter": "python",
   "pygments_lexer": "ipython3",
   "version": "3.8.3"
  }
 },
 "nbformat": 4,
 "nbformat_minor": 4
}
