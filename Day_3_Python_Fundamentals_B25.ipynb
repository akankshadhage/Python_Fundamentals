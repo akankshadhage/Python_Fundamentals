{
 "cells": [
  {
   "cell_type": "code",
   "execution_count": 13,
   "metadata": {},
   "outputs": [
    {
     "name": "stdout",
     "output_type": "stream",
     "text": [
      "Chandler Bing\n"
     ]
    }
   ],
   "source": [
    "first_name = \"Chandler\"                            #using f strings\n",
    "last_name = \"Bing\"\n",
    "full_name = f\"{first_name} {last_name}\"\n",
    "print(full_name)"
   ]
  },
  {
   "cell_type": "code",
   "execution_count": 15,
   "metadata": {},
   "outputs": [
    {
     "name": "stdout",
     "output_type": "stream",
     "text": [
      "Hello, Chandler Bing \n"
     ]
    }
   ],
   "source": [
    "a = f\"Hello, {full_name.title()}\"                 #using type method with f strings\n",
    "print(a)                                          #enhancement of the code"
   ]
  },
  {
   "cell_type": "code",
   "execution_count": 16,
   "metadata": {},
   "outputs": [
    {
     "name": "stdout",
     "output_type": "stream",
     "text": [
      "fav_languages : Pythonjavarubyccobalc++\n"
     ]
    }
   ],
   "source": [
    "print('fav_languages : Pythonjavarubyccobalc++')           #adding whitespaces to strings\n"
   ]
  },
  {
   "cell_type": "code",
   "execution_count": 18,
   "metadata": {},
   "outputs": [
    {
     "name": "stdout",
     "output_type": "stream",
     "text": [
      "fav_languages :\n",
      "Python\n",
      "java\n",
      "ruby\n",
      "c\n",
      "cobal\n",
      "c++\n"
     ]
    }
   ],
   "source": [
    "print('fav_languages :\\nPython\\njava\\nruby\\nc\\ncobal\\nc++')           #enhancement of the code\n",
    "                                                                    #\\n ------> new line delimiter"
   ]
  },
  {
   "cell_type": "code",
   "execution_count": 19,
   "metadata": {},
   "outputs": [
    {
     "name": "stdout",
     "output_type": "stream",
     "text": [
      "fav_languages :\n",
      "\tPython\n",
      "\tjava\n",
      "\truby\n",
      "\tc\n",
      "\tcobal\n",
      "\tc++\n"
     ]
    }
   ],
   "source": [
    "print('fav_languages :\\n\\tPython\\n\\tjava\\n\\truby\\n\\tc\\n\\tcobal\\n\\tc++')     #\\t------->tab delimiter"
   ]
  },
  {
   "cell_type": "code",
   "execution_count": null,
   "metadata": {},
   "outputs": [],
   "source": []
  }
 ],
 "metadata": {
  "kernelspec": {
   "display_name": "Python 3",
   "language": "python",
   "name": "python3"
  },
  "language_info": {
   "codemirror_mode": {
    "name": "ipython",
    "version": 3
   },
   "file_extension": ".py",
   "mimetype": "text/x-python",
   "name": "python",
   "nbconvert_exporter": "python",
   "pygments_lexer": "ipython3",
   "version": "3.8.3"
  }
 },
 "nbformat": 4,
 "nbformat_minor": 4
}
