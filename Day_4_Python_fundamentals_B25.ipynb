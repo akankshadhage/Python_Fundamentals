{
 "cells": [
  {
   "cell_type": "code",
   "execution_count": 5,
   "metadata": {},
   "outputs": [
    {
     "name": "stdout",
     "output_type": "stream",
     "text": [
      "['suteja', 'manali', 'ravi', 'kumar', 'harish', 'ruddhi', 'tejas', 'sonal']\n"
     ]
    }
   ],
   "source": [
    "students= ['suteja','manali','ravi','kumar','harish','ruddhi','tejas','sonal']              #defining list datatype\n",
    "print(students)"
   ]
  },
  {
   "cell_type": "code",
   "execution_count": 6,
   "metadata": {},
   "outputs": [
    {
     "data": {
      "text/plain": [
       "list"
      ]
     },
     "execution_count": 6,
     "metadata": {},
     "output_type": "execute_result"
    }
   ],
   "source": [
    "type (students)                               #verifying datatype of the variable defined"
   ]
  },
  {
   "cell_type": "code",
   "execution_count": 7,
   "metadata": {},
   "outputs": [
    {
     "name": "stdout",
     "output_type": "stream",
     "text": [
      "manali\n"
     ]
    }
   ],
   "source": [
    "print(students[1])                           #accessing variable using index"
   ]
  },
  {
   "cell_type": "code",
   "execution_count": 8,
   "metadata": {},
   "outputs": [
    {
     "name": "stdout",
     "output_type": "stream",
     "text": [
      "ruddhi\n"
     ]
    }
   ],
   "source": [
    "print(students[5])"
   ]
  },
  {
   "cell_type": "code",
   "execution_count": 13,
   "metadata": {},
   "outputs": [
    {
     "name": "stdout",
     "output_type": "stream",
     "text": [
      "['suteja', 'manali', 'ravi', 'kumar', 'harish', 'ruddhi', 'tejas', 'sonal', 'Asmita', 'Asmita', 'Yashvi', 'Yashvi']\n"
     ]
    }
   ],
   "source": [
    "students.append('Yashvi')                       #using .append ,adding the elements to the last position in the last\n",
    "print(students)"
   ]
  },
  {
   "cell_type": "code",
   "execution_count": 16,
   "metadata": {},
   "outputs": [
    {
     "name": "stdout",
     "output_type": "stream",
     "text": [
      "['suteja', 'Kunal', 'ravi', 'kumar', 'harish', 'ruddhi', 'tejas', 'sonal', 'Asmita', 'Yashvi']\n"
     ]
    }
   ],
   "source": [
    "students[1]='Kunal'                             #modifying the existing students from the list \n",
    "print(students)"
   ]
  },
  {
   "cell_type": "code",
   "execution_count": 17,
   "metadata": {},
   "outputs": [
    {
     "name": "stdout",
     "output_type": "stream",
     "text": [
      "['suteja', 'Kunal', 'ravi', 'kumar', 'ruddhi', 'tejas', 'sonal', 'Asmita', 'Yashvi']\n"
     ]
    }
   ],
   "source": [
    "del students[4]                                #deleting the elements from the list\n",
    "print(students)"
   ]
  },
  {
   "cell_type": "code",
   "execution_count": null,
   "metadata": {},
   "outputs": [],
   "source": []
  }
 ],
 "metadata": {
  "kernelspec": {
   "display_name": "Python 3",
   "language": "python",
   "name": "python3"
  },
  "language_info": {
   "codemirror_mode": {
    "name": "ipython",
    "version": 3
   },
   "file_extension": ".py",
   "mimetype": "text/x-python",
   "name": "python",
   "nbconvert_exporter": "python",
   "pygments_lexer": "ipython3",
   "version": "3.8.3"
  }
 },
 "nbformat": 4,
 "nbformat_minor": 4
}
